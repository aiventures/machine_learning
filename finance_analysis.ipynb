{
 "cells": [
  {
   "cell_type": "markdown",
   "id": "common-costume",
   "metadata": {},
   "source": [
    "# Finance Analysis\n",
    "Reads a finance XLS and lumps up certain positions to categories / time intervals\n",
    "\n",
    "**Reference**"
   ]
  },
  {
   "cell_type": "code",
   "execution_count": 15,
   "id": "bulgarian-anaheim",
   "metadata": {},
   "outputs": [],
   "source": [
    "import os\n",
    "from machine_learning import finance_analysis"
   ]
  },
  {
   "cell_type": "code",
   "execution_count": 14,
   "id": "shaped-chassis",
   "metadata": {},
   "outputs": [
    {
     "name": "stdout",
     "output_type": "stream",
     "text": [
      "Filepath C:\\30_Entwicklung\\WORK_JUPYTER\\root\\machine_learning\\sample\\SampleData.csv is path: True\n"
     ]
    }
   ],
   "source": [
    "# get the path to the sample file\n",
    "filename = \"SampleData.csv\"\n",
    "filepath = os.path.join(os.getcwd(),\"sample\",filename)\n",
    "print(f\"Filepath {filepath} is path: {os.path.isfile(filepath)}\")"
   ]
  },
  {
   "cell_type": "code",
   "execution_count": 32,
   "id": "structured-luther",
   "metadata": {},
   "outputs": [],
   "source": [
    "# copy the descriptor\n",
    "descriptor = finance_analysis.DATA_DESCRIPTOR.copy()\n",
    "descriptor[\"FILE_NAME\"] = filepath"
   ]
  },
  {
   "cell_type": "code",
   "execution_count": 33,
   "id": "elementary-attempt",
   "metadata": {},
   "outputs": [
    {
     "data": {
      "text/plain": [
       "dict_keys(['FILE_NAME', 'DATE_COLUMNS', 'N_HEADER_LINES', 'N_SKIP_ROWS', 'DATE_COL_ORIGINAL', 'DATE_COL', 'DEBIT_COL', 'CREDIT_COL', 'BALANCE_COL', 'TEXT_COL', 'TIME_BUCKET', 'DROP_COLS', 'DRAW_CATEGORIES', 'CATEGORY_DICT', 'FONTSIZE', 'TITLE', 'X_TITLE', 'Y_TITLE', 'FIGSIZE', 'THOUSAND_SEP', 'DECIMAL_SEP', 'DATA_SEP', 'CMAP_PALETTE'])"
      ]
     },
     "execution_count": 33,
     "metadata": {},
     "output_type": "execute_result"
    }
   ],
   "source": [
    "# descriptor has the following keys\n",
    "descriptor.keys()"
   ]
  },
  {
   "cell_type": "code",
   "execution_count": 26,
   "id": "answering-agency",
   "metadata": {},
   "outputs": [
    {
     "data": {
      "text/plain": [
       "{'CAT': ['Store1', 'Store2', 'Store3']}"
      ]
     },
     "execution_count": 26,
     "metadata": {},
     "output_type": "execute_result"
    }
   ],
   "source": [
    "# analyze texts for keywords\n",
    "finance_analysis.category_dict"
   ]
  },
  {
   "cell_type": "code",
   "execution_count": 22,
   "id": "naughty-rating",
   "metadata": {},
   "outputs": [
    {
     "data": {
      "text/html": [
       "<div>\n",
       "<style scoped>\n",
       "    .dataframe tbody tr th:only-of-type {\n",
       "        vertical-align: middle;\n",
       "    }\n",
       "\n",
       "    .dataframe tbody tr th {\n",
       "        vertical-align: top;\n",
       "    }\n",
       "\n",
       "    .dataframe thead th {\n",
       "        text-align: right;\n",
       "    }\n",
       "</style>\n",
       "<table border=\"1\" class=\"dataframe\">\n",
       "  <thead>\n",
       "    <tr style=\"text-align: right;\">\n",
       "      <th></th>\n",
       "      <th>Nr.</th>\n",
       "      <th>Umsatzart</th>\n",
       "      <th>Umsatzinformation</th>\n",
       "      <th>JJJJ</th>\n",
       "      <th>JJJJMM</th>\n",
       "      <th>JJJJWW</th>\n",
       "      <th>Betrag_EUR</th>\n",
       "      <th>Store1</th>\n",
       "      <th>Store2</th>\n",
       "      <th>Store3</th>\n",
       "      <th>CAT</th>\n",
       "    </tr>\n",
       "    <tr>\n",
       "      <th>Datum</th>\n",
       "      <th></th>\n",
       "      <th></th>\n",
       "      <th></th>\n",
       "      <th></th>\n",
       "      <th></th>\n",
       "      <th></th>\n",
       "      <th></th>\n",
       "      <th></th>\n",
       "      <th></th>\n",
       "      <th></th>\n",
       "      <th></th>\n",
       "    </tr>\n",
       "  </thead>\n",
       "  <tbody>\n",
       "    <tr>\n",
       "      <th>2021-10-09</th>\n",
       "      <td>1</td>\n",
       "      <td>Prepaid Kartenumsatz</td>\n",
       "      <td>Store2 KARTENUMSATZ AccounNo 09.09.2021</td>\n",
       "      <td>2021</td>\n",
       "      <td>202110</td>\n",
       "      <td>202140</td>\n",
       "      <td>-20.00</td>\n",
       "      <td>0.00</td>\n",
       "      <td>20.0</td>\n",
       "      <td>0.0</td>\n",
       "      <td>20.00</td>\n",
       "    </tr>\n",
       "    <tr>\n",
       "      <th>2021-08-09</th>\n",
       "      <td>2</td>\n",
       "      <td>Prepaid Kartenumsatz</td>\n",
       "      <td>Store1 14233 SOT  City2     DE AccounNo 07.09....</td>\n",
       "      <td>2021</td>\n",
       "      <td>202108</td>\n",
       "      <td>202132</td>\n",
       "      <td>-11.48</td>\n",
       "      <td>11.48</td>\n",
       "      <td>0.0</td>\n",
       "      <td>0.0</td>\n",
       "      <td>11.48</td>\n",
       "    </tr>\n",
       "    <tr>\n",
       "      <th>2021-01-06</th>\n",
       "      <td>3</td>\n",
       "      <td>Gutschrift Prepaid Card Konto</td>\n",
       "      <td>GUTSCHRIFT PREPAID CARD KONTO 01.09.2021      ...</td>\n",
       "      <td>2021</td>\n",
       "      <td>202101</td>\n",
       "      <td>202101</td>\n",
       "      <td>12.00</td>\n",
       "      <td>-0.00</td>\n",
       "      <td>-0.0</td>\n",
       "      <td>-0.0</td>\n",
       "      <td>0.00</td>\n",
       "    </tr>\n",
       "    <tr>\n",
       "      <th>2021-01-05</th>\n",
       "      <td>4</td>\n",
       "      <td>Prepaid Kartenumsatz</td>\n",
       "      <td>Store2 KARTENUMSATZ AccounNo 31.08.2021</td>\n",
       "      <td>2021</td>\n",
       "      <td>202101</td>\n",
       "      <td>202101</td>\n",
       "      <td>-2.00</td>\n",
       "      <td>0.00</td>\n",
       "      <td>2.0</td>\n",
       "      <td>0.0</td>\n",
       "      <td>2.00</td>\n",
       "    </tr>\n",
       "    <tr>\n",
       "      <th>2021-01-09</th>\n",
       "      <td>5</td>\n",
       "      <td>Prepaid Kartenumsatz</td>\n",
       "      <td>Store3 KARTENUMSATZ AccounNo 31.08.2021</td>\n",
       "      <td>2021</td>\n",
       "      <td>202101</td>\n",
       "      <td>202101</td>\n",
       "      <td>-7.00</td>\n",
       "      <td>0.00</td>\n",
       "      <td>0.0</td>\n",
       "      <td>7.0</td>\n",
       "      <td>7.00</td>\n",
       "    </tr>\n",
       "  </tbody>\n",
       "</table>\n",
       "</div>"
      ],
      "text/plain": [
       "            Nr.                      Umsatzart  \\\n",
       "Datum                                            \n",
       "2021-10-09    1           Prepaid Kartenumsatz   \n",
       "2021-08-09    2           Prepaid Kartenumsatz   \n",
       "2021-01-06    3  Gutschrift Prepaid Card Konto   \n",
       "2021-01-05    4           Prepaid Kartenumsatz   \n",
       "2021-01-09    5           Prepaid Kartenumsatz   \n",
       "\n",
       "                                            Umsatzinformation  JJJJ  JJJJMM  \\\n",
       "Datum                                                                         \n",
       "2021-10-09            Store2 KARTENUMSATZ AccounNo 09.09.2021  2021  202110   \n",
       "2021-08-09  Store1 14233 SOT  City2     DE AccounNo 07.09....  2021  202108   \n",
       "2021-01-06  GUTSCHRIFT PREPAID CARD KONTO 01.09.2021      ...  2021  202101   \n",
       "2021-01-05            Store2 KARTENUMSATZ AccounNo 31.08.2021  2021  202101   \n",
       "2021-01-09            Store3 KARTENUMSATZ AccounNo 31.08.2021  2021  202101   \n",
       "\n",
       "            JJJJWW  Betrag_EUR  Store1  Store2  Store3    CAT  \n",
       "Datum                                                          \n",
       "2021-10-09  202140      -20.00    0.00    20.0     0.0  20.00  \n",
       "2021-08-09  202132      -11.48   11.48     0.0     0.0  11.48  \n",
       "2021-01-06  202101       12.00   -0.00    -0.0    -0.0   0.00  \n",
       "2021-01-05  202101       -2.00    0.00     2.0     0.0   2.00  \n",
       "2021-01-09  202101       -7.00    0.00     0.0     7.0   7.00  "
      ]
     },
     "execution_count": 22,
     "metadata": {},
     "output_type": "execute_result"
    }
   ],
   "source": [
    "# read the csv into dataframe \n",
    "df = finance_analysis.get_df_from_csv(descriptor)\n",
    "df.head()"
   ]
  },
  {
   "cell_type": "code",
   "execution_count": 27,
   "id": "material-blade",
   "metadata": {},
   "outputs": [
    {
     "data": {
      "text/html": [
       "<div>\n",
       "<style scoped>\n",
       "    .dataframe tbody tr th:only-of-type {\n",
       "        vertical-align: middle;\n",
       "    }\n",
       "\n",
       "    .dataframe tbody tr th {\n",
       "        vertical-align: top;\n",
       "    }\n",
       "\n",
       "    .dataframe thead th {\n",
       "        text-align: right;\n",
       "    }\n",
       "</style>\n",
       "<table border=\"1\" class=\"dataframe\">\n",
       "  <thead>\n",
       "    <tr style=\"text-align: right;\">\n",
       "      <th></th>\n",
       "      <th>Nr.</th>\n",
       "      <th>Betrag_EUR</th>\n",
       "      <th>Store1</th>\n",
       "      <th>Store2</th>\n",
       "      <th>Store3</th>\n",
       "      <th>CAT</th>\n",
       "      <th>JJJJ</th>\n",
       "      <th>JJJJMM</th>\n",
       "    </tr>\n",
       "    <tr>\n",
       "      <th>Datum</th>\n",
       "      <th></th>\n",
       "      <th></th>\n",
       "      <th></th>\n",
       "      <th></th>\n",
       "      <th></th>\n",
       "      <th></th>\n",
       "      <th></th>\n",
       "      <th></th>\n",
       "    </tr>\n",
       "  </thead>\n",
       "  <tbody>\n",
       "    <tr>\n",
       "      <th>2020-11-01</th>\n",
       "      <td>14</td>\n",
       "      <td>1.00</td>\n",
       "      <td>0.00</td>\n",
       "      <td>0.00</td>\n",
       "      <td>-1.0</td>\n",
       "      <td>-1.00</td>\n",
       "      <td>2020</td>\n",
       "      <td>202011</td>\n",
       "    </tr>\n",
       "    <tr>\n",
       "      <th>2020-12-01</th>\n",
       "      <td>0</td>\n",
       "      <td>0.00</td>\n",
       "      <td>0.00</td>\n",
       "      <td>0.00</td>\n",
       "      <td>0.0</td>\n",
       "      <td>0.00</td>\n",
       "      <td>2020</td>\n",
       "      <td>202012</td>\n",
       "    </tr>\n",
       "    <tr>\n",
       "      <th>2021-01-01</th>\n",
       "      <td>12</td>\n",
       "      <td>3.00</td>\n",
       "      <td>0.00</td>\n",
       "      <td>2.00</td>\n",
       "      <td>7.0</td>\n",
       "      <td>9.00</td>\n",
       "      <td>2021</td>\n",
       "      <td>202101</td>\n",
       "    </tr>\n",
       "    <tr>\n",
       "      <th>2021-02-01</th>\n",
       "      <td>6</td>\n",
       "      <td>-6.27</td>\n",
       "      <td>0.00</td>\n",
       "      <td>6.27</td>\n",
       "      <td>0.0</td>\n",
       "      <td>6.27</td>\n",
       "      <td>2021</td>\n",
       "      <td>202102</td>\n",
       "    </tr>\n",
       "    <tr>\n",
       "      <th>2021-03-01</th>\n",
       "      <td>9</td>\n",
       "      <td>-7.99</td>\n",
       "      <td>7.99</td>\n",
       "      <td>0.00</td>\n",
       "      <td>0.0</td>\n",
       "      <td>7.99</td>\n",
       "      <td>2021</td>\n",
       "      <td>202103</td>\n",
       "    </tr>\n",
       "  </tbody>\n",
       "</table>\n",
       "</div>"
      ],
      "text/plain": [
       "            Nr.  Betrag_EUR  Store1  Store2  Store3   CAT  JJJJ  JJJJMM\n",
       "Datum                                                                  \n",
       "2020-11-01   14        1.00    0.00    0.00    -1.0 -1.00  2020  202011\n",
       "2020-12-01    0        0.00    0.00    0.00     0.0  0.00  2020  202012\n",
       "2021-01-01   12        3.00    0.00    2.00     7.0  9.00  2021  202101\n",
       "2021-02-01    6       -6.27    0.00    6.27     0.0  6.27  2021  202102\n",
       "2021-03-01    9       -7.99    7.99    0.00     0.0  7.99  2021  202103"
      ]
     },
     "execution_count": 27,
     "metadata": {},
     "output_type": "execute_result"
    }
   ],
   "source": [
    "# get lump sums according to vocabulary dictionary\n",
    "df_period = finance_analysis.get_df_by_period(df,descriptor)\n",
    "df_period.head()"
   ]
  },
  {
   "cell_type": "code",
   "execution_count": 34,
   "id": "mounted-pennsylvania",
   "metadata": {
    "scrolled": true
   },
   "outputs": [
    {
     "data": {
      "image/png": "[encoded data removed]",
      "text/plain": [
       "<Figure size 1080x504 with 1 Axes>"
      ]
     },
     "metadata": {
      "needs_background": "light"
     },
     "output_type": "display_data"
    }
   ],
   "source": [
    "# show the graphics by categories\n",
    "descriptor[\"DRAW_CATEGORIES\"] = True\n",
    "finance_analysis.draw_bars(df_period,descriptor);"
   ]
  },
  {
   "cell_type": "code",
   "execution_count": 35,
   "id": "alternative-dividend",
   "metadata": {},
   "outputs": [
    {
     "data": {
      "image/png": "[encoded data removed]",
      "text/plain": [
       "<Figure size 1080x504 with 1 Axes>"
      ]
     },
     "metadata": {
      "needs_background": "light"
     },
     "output_type": "display_data"
    }
   ],
   "source": [
    "# show the graphics by vocabulary\n",
    "descriptor[\"DRAW_CATEGORIES\"] = False\n",
    "finance_analysis.draw_bars(df_period,descriptor);"
   ]
  }
 ],
 "metadata": {
  "kernelspec": {
   "display_name": "Python 3",
   "language": "python",
   "name": "python3"
  },
  "language_info": {
   "codemirror_mode": {
    "name": "ipython",
    "version": 3
   },
   "file_extension": ".py",
   "mimetype": "text/x-python",
   "name": "python",
   "nbconvert_exporter": "python",
   "pygments_lexer": "ipython3",
   "version": "3.7.9"
  }
 },
 "nbformat": 4,
 "nbformat_minor": 5
}
