{
 "cells": [
  {
   "cell_type": "code",
   "execution_count": null,
   "id": "bottom-flour",
   "metadata": {},
   "outputs": [],
   "source": [
    "from dateutil.parser import parse\n",
    "from dateutil.parser import ParserError\n",
    "from dateutil.tz import gettz\n",
    "from datetime import datetime\n",
    "import numpy as np\n",
    "import pandas as pd\n",
    "from sklearn.feature_extraction.text import CountVectorizer\n",
    "import traceback"
   ]
  },
  {
   "cell_type": "code",
   "execution_count": null,
   "id": "sacred-marshall",
   "metadata": {},
   "outputs": [],
   "source": [
    "# # data format ANSI\n",
    "# f = r\"C:\\LinkToBanking.csv\"\n",
    "\n",
    "# date_columns = ['Date','EntryDate', 'ValueDate', 'TransactionDate', 'AnalysisDate']\n",
    "\n",
    "# # mbcs = ANSI encoding\n",
    "# df = pd.read_csv(f,sep=\";\",encoding=\"mbcs\",decimal=\",\",\n",
    "#                  delimiter=\";\",parse_dates=date_columns,\n",
    "#                  thousands='.')"
   ]
  },
  {
   "cell_type": "code",
   "execution_count": null,
   "id": "speaking-grant",
   "metadata": {},
   "outputs": [],
   "source": [
    "f = r\"<C:\\link to banking file.csv>\"\n",
    "# only read account information\n",
    "\n",
    "# treat date columns\n",
    "date_columns = [\"Buchungsdatum\",\"Wertstellung\"]\n",
    "\n",
    "df = pd.read_csv(f,sep=\";\",decimal=\",\",\n",
    "                 delimiter=\";\",nrows=3,\n",
    "                 thousands='.')\n",
    "# for this csv we find the account info here\n",
    "account_info = df.iloc[1][1];\n",
    "\n",
    "# read csv\n",
    "df = pd.read_csv(f,sep=\";\",decimal=\",\",parse_dates=date_columns,\n",
    "                 delimiter=\";\",nrows=999999,skiprows=6,\n",
    "                 thousands='.')\n",
    "df[\"Konto\"] = account_info\n",
    "# convert date\n",
    "df['JJJJ'] = df['Buchungsdatum'].map(lambda x: x.strftime('%Y'))\n",
    "df['JJJJMM'] = df['Buchungsdatum'].map(lambda x: x.strftime('%Y%m'))\n",
    "df['JJJJWW'] = df['Buchungsdatum'].map(lambda x: x.strftime('%Y%U'))"
   ]
  },
  {
   "cell_type": "code",
   "execution_count": null,
   "id": "dressed-lloyd",
   "metadata": {},
   "outputs": [],
   "source": [
    "# drop columns we do not need\n",
    "drop_cols = ['UCI','Mandat ID', 'Abweichender Debitor', 'Abweichender Kreditor','Referenznummer', 'Wertstellung']\n",
    "df.drop(labels=drop_cols, axis=1,  inplace=True)"
   ]
  },
  {
   "cell_type": "code",
   "execution_count": null,
   "id": "minimal-neighborhood",
   "metadata": {},
   "outputs": [],
   "source": [
    "# look for keyword categories in booking description\n",
    "spending_vocabulary = [\"store\",\"burger\"]\n",
    "#drop cols from previous run\n",
    "df.drop(labels=spending_vocabulary, axis=1, inplace=True)\n",
    "#data col containing description\n",
    "data = df.Umsatzinformation\n",
    "\n",
    "# transform keywords / add it to dataframe  into columns using CountVerctorizer\n",
    "vectorizer = CountVectorizer(lowercase=True,vocabulary=spending_vocabulary,ngram_range=(1,2))\n",
    "X = vectorizer.fit_transform(data)\n",
    "\n",
    "df_category =  pd.DataFrame(data=X.toarray(),columns=vectorizer.get_feature_names())\n",
    "df_category\n",
    "df = pd.concat([df, df_category], axis=1)\n",
    "\n",
    "# get new category\n",
    "df[\"Essen\"] = df[spending_vocabulary].max(axis=1)\n",
    "df\n"
   ]
  },
  {
   "cell_type": "code",
   "execution_count": null,
   "id": "helpful-polymer",
   "metadata": {
    "scrolled": true
   },
   "outputs": [],
   "source": [
    "# transfer separate balance cols (debit,credit) into one sum column\n",
    "def get_balance(debit,credit):\n",
    "    balance = 0\n",
    "    if not(np.isnan(debit)):\n",
    "        balance += -1. * debit\n",
    "    if not(np.isnan(credit)):\n",
    "        balance += credit\n",
    "    return balance\n",
    "\n",
    "balance_cols = ['Soll (EUR)','Haben (EUR)']\n",
    "df[\"Betrag\"] = df[balance_cols].apply(lambda f:get_balance(f[\"Soll (EUR)\"],f[\"Haben (EUR)\"]),axis=1)\n",
    "df"
   ]
  },
  {
   "cell_type": "code",
   "execution_count": null,
   "id": "polyphonic-burner",
   "metadata": {},
   "outputs": [],
   "source": [
    "# aggregate by year month, category\n",
    "df_agg = df.groupby(by=[\"JJJJ\",\"JJJJMM\",\"Essen\"]).sum()\n",
    "df_agg"
   ]
  },
  {
   "cell_type": "code",
   "execution_count": null,
   "id": "gothic-commonwealth",
   "metadata": {},
   "outputs": [],
   "source": [
    "df_agg[df_agg.index.get_level_values('Essen') == 1]"
   ]
  }
 ],
 "metadata": {
  "kernelspec": {
   "display_name": "Python 3",
   "language": "python",
   "name": "python3"
  },
  "language_info": {
   "codemirror_mode": {
    "name": "ipython",
    "version": 3
   },
   "file_extension": ".py",
   "mimetype": "text/x-python",
   "name": "python",
   "nbconvert_exporter": "python",
   "pygments_lexer": "ipython3",
   "version": "3.7.9"
  }
 },
 "nbformat": 4,
 "nbformat_minor": 5
}
